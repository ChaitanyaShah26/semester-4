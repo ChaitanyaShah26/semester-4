{
  "nbformat": 4,
  "nbformat_minor": 0,
  "metadata": {
    "colab": {
      "provenance": []
    },
    "kernelspec": {
      "name": "python3",
      "display_name": "Python 3"
    },
    "language_info": {
      "name": "python"
    }
  },
  "cells": [
    {
      "cell_type": "markdown",
      "source": [
        "# DFS in Tree\n"
      ],
      "metadata": {
        "id": "V6YorpWkz9XJ"
      }
    },
    {
      "cell_type": "code",
      "execution_count": 2,
      "metadata": {
        "id": "wSuMtXWMz06_",
        "colab": {
          "base_uri": "https://localhost:8080/"
        },
        "outputId": "8f3752d8-3954-4d6e-8424-4120242adb83"
      },
      "outputs": [
        {
          "output_type": "stream",
          "name": "stdout",
          "text": [
            "Enter the number of nodes in the tree: 7\n",
            "Enter the tree structure:\n",
            "Enter node: A\n",
            "Enter children of node A (comma separated): B,C\n",
            "Enter node: B\n",
            "Enter children of node B (comma separated): D,E\n",
            "Enter node: D\n",
            "Enter children of node D (comma separated): F\n",
            "Enter node: E\n",
            "Enter children of node E (comma separated): G,H\n",
            "Enter node: C\n",
            "Enter children of node C (comma separated): I,J\n",
            "Enter node: J\n",
            "Enter children of node J (comma separated): ,K\n",
            "Enter node: K\n",
            "Enter children of node K (comma separated): L,M\n",
            "Enter the start node (usually root): A\n",
            "\n",
            "DFS traversal of the tree:\n",
            "A -> B -> D -> F -> E -> G -> H -> C -> I -> J -> K -> L -> M\n"
          ]
        }
      ],
      "source": [
        "# DFS Function for full traversal of the tree (recursive approach)\n",
        "def dfs(tree, node, visited=None, result=None):\n",
        "    if visited is None:\n",
        "        visited = set()  # Initialize the visited set if it's the first call\n",
        "    if result is None:\n",
        "        result = []  # List to store the DFS traversal order\n",
        "\n",
        "    # Mark the node as visited and add to the result list\n",
        "    visited.add(node)\n",
        "    result.append(node)  # Store the node\n",
        "\n",
        "    # Recursively visit all the children (if any)\n",
        "    for child in tree.get(node, []):\n",
        "        if child not in visited:\n",
        "            dfs(tree, child, visited, result)\n",
        "\n",
        "    return result\n",
        "\n",
        "# Function to input tree structure\n",
        "def input_tree():\n",
        "    tree = {}\n",
        "    n = int(input(\"Enter the number of nodes in the tree: \"))\n",
        "\n",
        "    print(\"Enter the tree structure:\")\n",
        "    for _ in range(n):\n",
        "        node = input(\"Enter node: \")\n",
        "        children = input(f\"Enter children of node {node} (comma separated): \").split(',')\n",
        "        tree[node] = [child.strip() for child in children if child.strip()]\n",
        "\n",
        "    return tree\n",
        "\n",
        "\n",
        "# Input tree\n",
        "tree = input_tree()\n",
        "\n",
        "# Ask for start node (usually root)\n",
        "start = input(\"Enter the start node (usually root): \")\n",
        "\n",
        "# Perform DFS to traverse the tree\n",
        "print(\"\\nDFS traversal of the tree:\")\n",
        "result = dfs(tree, start)\n",
        "\n",
        "# Join the result list with '->' and print it\n",
        "print(\" -> \".join(result))"
      ]
    },
    {
      "cell_type": "markdown",
      "source": [
        "# DFS in Graph"
      ],
      "metadata": {
        "id": "tqmHdWDG0B15"
      }
    },
    {
      "cell_type": "code",
      "source": [
        "def dfs_graph(graph, start):\n",
        "    stack = [start]  # Initialize the stack with the start node\n",
        "    visited = set()  # Set to track visited nodes\n",
        "    result = []  # List to store the DFS traversal order\n",
        "\n",
        "    while stack:\n",
        "        node = stack.pop()  # Pop a node from the top of the stack\n",
        "\n",
        "        if node not in visited:\n",
        "            result.append(node)  # Add node to the result list\n",
        "            visited.add(node)\n",
        "\n",
        "            # Push all unvisited neighbors of the current node onto the stack\n",
        "            for neighbor in reversed(graph.get(node, [])):  # Reverse to maintain order\n",
        "                if neighbor not in visited:\n",
        "                    stack.append(neighbor)\n",
        "\n",
        "    return result  # Return the result list\n",
        "\n",
        "def input_graph():\n",
        "    graph = {}\n",
        "    num_nodes = int(input(\"Enter the number of nodes in the graph: \"))\n",
        "\n",
        "    for _ in range(num_nodes):\n",
        "        node = input(\"Enter node: \")\n",
        "        neighbors = input(f\"Enter neighbors of node {node} (comma-separated): \").split(',')\n",
        "        graph[node] = [neighbor.strip() for neighbor in neighbors if neighbor.strip()]\n",
        "\n",
        "    return graph\n",
        "\n",
        "# Input the graph from the user\n",
        "graph = input_graph()\n",
        "\n",
        "# Ask for the start node\n",
        "start_node = input(\"Enter the start node: \")\n",
        "\n",
        "# Perform DFS and print the result\n",
        "dfs_traversal = dfs_graph(graph, start_node)\n",
        "print(\"DFS traversal of the graph:\", \" -> \".join(dfs_traversal))"
      ],
      "metadata": {
        "colab": {
          "base_uri": "https://localhost:8080/"
        },
        "id": "P0wG3L28mJ_Y",
        "outputId": "cf2a5143-8e50-49c8-fa92-95f635effbbd"
      },
      "execution_count": 3,
      "outputs": [
        {
          "output_type": "stream",
          "name": "stdout",
          "text": [
            "Enter the number of nodes in the graph: 5\n",
            "Enter node: A\n",
            "Enter neighbors of node A (comma-separated): B,C\n",
            "Enter node: B\n",
            "Enter neighbors of node B (comma-separated): A,C,D\n",
            "Enter node: C\n",
            "Enter neighbors of node C (comma-separated): A,B,D,E\n",
            "Enter node: D\n",
            "Enter neighbors of node D (comma-separated): B,C,E\n",
            "Enter node: E\n",
            "Enter neighbors of node E (comma-separated): C,D\n",
            "Enter the start node: A\n",
            "DFS traversal of the graph: A -> B -> C -> D -> E\n"
          ]
        }
      ]
    }
  ]
}