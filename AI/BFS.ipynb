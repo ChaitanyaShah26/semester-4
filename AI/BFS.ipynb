{
  "nbformat": 4,
  "nbformat_minor": 0,
  "metadata": {
    "colab": {
      "provenance": []
    },
    "kernelspec": {
      "name": "python3",
      "display_name": "Python 3"
    },
    "language_info": {
      "name": "python"
    }
  },
  "cells": [
    {
      "cell_type": "markdown",
      "source": [
        "# BFS in Tree\n"
      ],
      "metadata": {
        "id": "V6YorpWkz9XJ"
      }
    },
    {
      "cell_type": "code",
      "execution_count": null,
      "metadata": {
        "colab": {
          "base_uri": "https://localhost:8080/"
        },
        "id": "wSuMtXWMz06_",
        "outputId": "d4cf3e88-a68b-41c6-8c66-d004c534c0dd"
      },
      "outputs": [
        {
          "output_type": "stream",
          "name": "stdout",
          "text": [
            "Enter the number of nodes in the tree: 7\n",
            "Enter the tree structure:\n",
            "Enter node: A\n",
            "Enter children of node A (comma separated): B,C\n",
            "Enter node: B\n",
            "Enter children of node B (comma separated): D,E\n",
            "Enter node: D\n",
            "Enter children of node D (comma separated): F\n",
            "Enter node: E\n",
            "Enter children of node E (comma separated): G,H\n",
            "Enter node: C\n",
            "Enter children of node C (comma separated): I,J\n",
            "Enter node: J\n",
            "Enter children of node J (comma separated): ,K\n",
            "Enter node: K\n",
            "Enter children of node K (comma separated): L,M\n",
            "Enter the start node (usually root): A\n",
            "BFS traversal of the tree:\n",
            "A -> B -> C -> D -> E -> I -> J -> F -> G -> H -> K -> L -> M\n"
          ]
        }
      ],
      "source": [
        "from collections import deque\n",
        "\n",
        "# BFS Function for full traversal of the tree\n",
        "def bfs(tree, start):\n",
        "    # Initialize the queue with the start node\n",
        "    queue = deque([start])  # Queue stores nodes\n",
        "    visited = set()  # Set to track visited nodes\n",
        "\n",
        "    # Perform BFS loop\n",
        "    result = []  # List to store the BFS traversal order\n",
        "    while queue:\n",
        "        # Dequeue a node from the front of the queue\n",
        "        node = queue.popleft()\n",
        "\n",
        "        # If the node hasn't been visited, process it\n",
        "        if node not in visited:\n",
        "            result.append(node)  # Add node to the result list\n",
        "            visited.add(node)\n",
        "\n",
        "            # Enqueue all unvisited neighbors of the current node\n",
        "            for neighbor in tree.get(node, []):\n",
        "                if neighbor not in visited:\n",
        "                    queue.append(neighbor)\n",
        "\n",
        "    # Print the result list without trailing '->'\n",
        "    print(\" -> \".join(result))\n",
        "\n",
        "# Function to input a tree from the user\n",
        "def input_tree():\n",
        "    tree = {}\n",
        "    n = int(input(\"Enter the number of nodes in the tree: \"))\n",
        "\n",
        "    print(\"Enter the tree structure:\")\n",
        "    for _ in range(n):\n",
        "        node = input(\"Enter node: \")\n",
        "        children = input(f\"Enter children of node {node} (comma separated): \").split(',')\n",
        "        tree[node] = [child.strip() for child in children if child.strip()]\n",
        "\n",
        "    return tree\n",
        "\n",
        "\n",
        "# Input tree\n",
        "tree = input_tree()\n",
        "\n",
        "# Ask for start node (usually root)\n",
        "start = input(\"Enter the start node (usually root): \")\n",
        "\n",
        "# Perform BFS to traverse the tree\n",
        "print(\"BFS traversal of the tree:\")\n",
        "bfs(tree, start)"
      ]
    },
    {
      "cell_type": "markdown",
      "source": [
        "# BFS in Graph"
      ],
      "metadata": {
        "id": "tqmHdWDG0B15"
      }
    },
    {
      "cell_type": "code",
      "source": [
        "from collections import deque\n",
        "\n",
        "def bfs_graph(graph, start):\n",
        "    queue = deque([start])  # Initialize the queue with the start node\n",
        "    visited = set()  # Set to track visited nodes\n",
        "    result = []  # List to store the BFS traversal order\n",
        "\n",
        "    while queue:\n",
        "        node = queue.popleft()  # Dequeue a node from the front of the queue\n",
        "\n",
        "        if node not in visited:\n",
        "            result.append(node)  # Add node to the result list\n",
        "            visited.add(node)\n",
        "\n",
        "            # Enqueue all unvisited neighbors of the current node\n",
        "            for neighbor in graph.get(node, []):\n",
        "                if neighbor not in visited:\n",
        "                    queue.append(neighbor)\n",
        "\n",
        "    return result  # Return the result list\n",
        "\n",
        "def input_graph():\n",
        "    graph = {}\n",
        "    num_nodes = int(input(\"Enter the number of nodes in the graph: \"))\n",
        "\n",
        "    for _ in range(num_nodes):\n",
        "        node = input(\"Enter node: \")\n",
        "        neighbors = input(f\"Enter neighbors of node {node} (comma-separated): \").split(',')\n",
        "        graph[node] = [neighbor.strip() for neighbor in neighbors if neighbor.strip()]\n",
        "\n",
        "    return graph\n",
        "\n",
        "# Input the graph from the user\n",
        "graph = input_graph()\n",
        "\n",
        "# Ask for the start node\n",
        "start_node = input(\"Enter the start node: \")\n",
        "\n",
        "# Perform BFS and print the result\n",
        "bfs_traversal = bfs_graph(graph, start_node)\n",
        "print(\"BFS traversal of the graph:\", \" -> \".join(bfs_traversal))"
      ],
      "metadata": {
        "id": "yaWM_Y3R0DgR",
        "colab": {
          "base_uri": "https://localhost:8080/"
        },
        "outputId": "2b78206e-8da8-40f8-8e2d-3e67c6198ab0"
      },
      "execution_count": 2,
      "outputs": [
        {
          "output_type": "stream",
          "name": "stdout",
          "text": [
            "Enter the number of nodes in the graph: 7\n",
            "Enter node: A\n",
            "Enter neighbors of node A (comma-separated): B,D\n",
            "Enter node: D\n",
            "Enter neighbors of node D (comma-separated): A,E,F\n",
            "Enter node: B\n",
            "Enter neighbors of node B (comma-separated): A,E,C\n",
            "Enter node: E\n",
            "Enter neighbors of node E (comma-separated): D,B,C,G\n",
            "Enter node: C\n",
            "Enter neighbors of node C (comma-separated): B,E,G\n",
            "Enter node: G\n",
            "Enter neighbors of node G (comma-separated): E,F,C\n",
            "Enter node: F\n",
            "Enter neighbors of node F (comma-separated): D,G\n",
            "Enter the start node: A\n",
            "BFS traversal of the graph: A -> B -> D -> E -> C -> F -> G\n"
          ]
        }
      ]
    }
  ]
}